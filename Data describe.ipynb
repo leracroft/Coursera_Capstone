{
 "cells": [
  {
   "cell_type": "markdown",
   "metadata": {},
   "source": [
    "### Describe Variables and sources:\n",
    "\n"
   ]
  },
  {
   "cell_type": "markdown",
   "metadata": {},
   "source": [
    "For execute my idea I use next data:\n",
    "\n",
    "1. Information about Countries and their capitals, capitals longitude and latitide, which are located in Europe contitnent. \n",
    "http://techslides.com/list-of-countries-and-capitals.\n",
    "I use only Europe data because my friends want to travel in capitals of European countries.\n",
    "\n",
    "2. Information about dailycost which including accomodation, food, entertainment. \n",
    "http://www.budgetyourtrip.com/\n",
    "This data will help to my friends understand which countries are very expensive, which countries are cheap. \n",
    "\n",
    "3. the Foursquare location data using the Capital Name \n",
    "It helps to show in high level what they can find in each capitals (restaraunt, museums and etc).\n"
   ]
  },
  {
   "cell_type": "code",
   "execution_count": null,
   "metadata": {},
   "outputs": [],
   "source": []
  }
 ],
 "metadata": {
  "kernelspec": {
   "display_name": "Python 3",
   "language": "python",
   "name": "python3"
  },
  "language_info": {
   "codemirror_mode": {
    "name": "ipython",
    "version": 3
   },
   "file_extension": ".py",
   "mimetype": "text/x-python",
   "name": "python",
   "nbconvert_exporter": "python",
   "pygments_lexer": "ipython3",
   "version": "3.6.8"
  }
 },
 "nbformat": 4,
 "nbformat_minor": 2
}
